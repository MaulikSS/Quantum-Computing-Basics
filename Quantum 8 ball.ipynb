{
 "cells": [
  {
   "cell_type": "markdown",
   "metadata": {},
   "source": [
    "## Quantum 8 Ball using superposition\n",
    "\n",
    "\n",
    "Sometimes we let chance decide. Quantum uncertainty is the cornerstone design feature of Quantum computers. Once the program is executed on a Quantum computer, you will receive the most unbiased random answer, a True chance that classical computers incapable to provide. Think about a question that can be answered \"yes or no\" and run the code. Quantum 8-ball returns one of the 8 possible answers to your question. \n",
    "\n",
    "\n",
    "\n",
    "\n"
   ]
  },
  {
   "cell_type": "code",
   "execution_count": 1,
   "metadata": {},
   "outputs": [],
   "source": [
    "# import libraries\n",
    "from qiskit import IBMQ, BasicAer\n",
    "from qiskit import ClassicalRegister, QuantumRegister, QuantumCircuit"
   ]
  },
  {
   "cell_type": "code",
   "execution_count": 2,
   "metadata": {},
   "outputs": [
    {
     "data": {
      "text/plain": [
       "<qiskit.circuit.instructionset.InstructionSet at 0x20a7bf070b8>"
      ]
     },
     "execution_count": 2,
     "metadata": {},
     "output_type": "execute_result"
    }
   ],
   "source": [
    "q = QuantumRegister(3) #create a quantum register of 3 bits\n",
    "c = ClassicalRegister(3)  # create a classical register of 3 bits\n",
    "\n",
    "# Create a Quantum Circuit\n",
    "qc = QuantumCircuit(q, c) # create a quantum circuit\n",
    "qc.h(q)  # add a hadamard gate on qubit\n",
    "qc.measure(q, c)  # measure the circuit"
   ]
  },
  {
   "cell_type": "code",
   "execution_count": 3,
   "metadata": {},
   "outputs": [
    {
     "data": {
      "text/html": [
       "<pre style=\"word-wrap: normal;white-space: pre;line-height: 15px;\">                         ┌───┐┌─┐\n",
       "q0_0: |0>────────────────┤ H ├┤M├\n",
       "                 ┌───┐┌─┐└───┘└╥┘\n",
       "q0_1: |0>────────┤ H ├┤M├──────╫─\n",
       "         ┌───┐┌─┐└───┘└╥┘      ║ \n",
       "q0_2: |0>┤ H ├┤M├──────╫───────╫─\n",
       "         └───┘└╥┘      ║       ║ \n",
       " c0_0: 0 ══════╬═══════╬═══════╩═\n",
       "               ║       ║         \n",
       " c0_1: 0 ══════╬═══════╩═════════\n",
       "               ║                 \n",
       " c0_2: 0 ══════╩═════════════════\n",
       "                                 </pre>"
      ],
      "text/plain": [
       "<qiskit.tools.visualization._text.TextDrawing at 0x20a7bef7240>"
      ]
     },
     "execution_count": 3,
     "metadata": {},
     "output_type": "execute_result"
    }
   ],
   "source": [
    "qc.draw()   #visualize the result"
   ]
  },
  {
   "cell_type": "code",
   "execution_count": 6,
   "metadata": {},
   "outputs": [],
   "source": [
    "def answer(result):\n",
    "    for key in result.keys():\n",
    "        state = key\n",
    "    print('The Quantum 8-ball says:')\n",
    "    if state == '000':\n",
    "        print('It is certain.')\n",
    "    elif state == '001':\n",
    "        print('Without a doubt.')\n",
    "    elif state == '010':\n",
    "        print('Yes - definitely.')\n",
    "    elif state == '011':\n",
    "        print('Most likely.')\n",
    "    elif state == '100':\n",
    "        print(\"Don't count on it.\")\n",
    "    elif state == '101':\n",
    "        print('My reply is no.')\n",
    "    elif state == '110':\n",
    "        print('Very doubtful.')\n",
    "    else:\n",
    "        print('Concentrate and ask again.')"
   ]
  },
  {
   "cell_type": "code",
   "execution_count": 7,
   "metadata": {},
   "outputs": [
    {
     "name": "stdout",
     "output_type": "stream",
     "text": [
      "{'110': 1, '111': 3, '101': 1, '000': 1, '100': 2, '011': 1, '001': 1}\n",
      "The Quantum 8-ball says:\n",
      "Without a doubt.\n"
     ]
    }
   ],
   "source": [
    "from qiskit import execute\n",
    "job = execute(qc, backend=BasicAer.get_backend('qasm_simulator'), shots=10)\n",
    "result = job.result().get_counts(qc)  \n",
    "print(result)\n",
    "answer(result)"
   ]
  },
  {
   "cell_type": "code",
   "execution_count": null,
   "metadata": {},
   "outputs": [],
   "source": []
  },
  {
   "cell_type": "code",
   "execution_count": null,
   "metadata": {},
   "outputs": [],
   "source": []
  }
 ],
 "metadata": {
  "kernelspec": {
   "display_name": "Python 3",
   "language": "python",
   "name": "python3"
  },
  "language_info": {
   "codemirror_mode": {
    "name": "ipython",
    "version": 3
   },
   "file_extension": ".py",
   "mimetype": "text/x-python",
   "name": "python",
   "nbconvert_exporter": "python",
   "pygments_lexer": "ipython3",
   "version": "3.6.5"
  }
 },
 "nbformat": 4,
 "nbformat_minor": 2
}
